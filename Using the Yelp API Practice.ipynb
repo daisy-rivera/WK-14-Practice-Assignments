{
 "cells": [
  {
   "cell_type": "markdown",
   "id": "1d7d079e",
   "metadata": {},
   "source": [
    "# Using the Yelp API\n",
    "\n",
    "Task: \n",
    "For this assignment you will practice with the Yelp API and the concept of pagination.<br>\n",
    "\n",
    "- Use your API credentials to access the the Yelp api\n",
    "- You can choose the location and search term (food), but it must return more than 20 results so you can practice pagination!\n",
    "- Save the businesses as a records-oriented JSON file. (df.to_json(orient='records'))\n",
    "- Obtain ONLY the first two pages of results\n",
    "- Concatenate the results into one data frame"
   ]
  },
  {
   "cell_type": "markdown",
   "id": "bb2aeb34",
   "metadata": {},
   "source": [
    "### Imports/Installs"
   ]
  },
  {
   "cell_type": "code",
   "execution_count": 1,
   "id": "30006d6b",
   "metadata": {},
   "outputs": [
    {
     "name": "stdout",
     "output_type": "stream",
     "text": [
      "Requirement already satisfied: yelpapi in c:\\users\\daisy\\anaconda3\\envs\\dojo-env\\lib\\site-packages (2.5.0)\n",
      "Requirement already satisfied: requests in c:\\users\\daisy\\anaconda3\\envs\\dojo-env\\lib\\site-packages (from yelpapi) (2.28.1)\n",
      "Requirement already satisfied: charset-normalizer<3,>=2 in c:\\users\\daisy\\anaconda3\\envs\\dojo-env\\lib\\site-packages (from requests->yelpapi) (2.0.4)\n",
      "Requirement already satisfied: urllib3<1.27,>=1.21.1 in c:\\users\\daisy\\anaconda3\\envs\\dojo-env\\lib\\site-packages (from requests->yelpapi) (1.26.13)\n",
      "Requirement already satisfied: idna<4,>=2.5 in c:\\users\\daisy\\anaconda3\\envs\\dojo-env\\lib\\site-packages (from requests->yelpapi) (3.4)\n",
      "Requirement already satisfied: certifi>=2017.4.17 in c:\\users\\daisy\\anaconda3\\envs\\dojo-env\\lib\\site-packages (from requests->yelpapi) (2022.9.24)\n",
      "Requirement already satisfied: tqdm in c:\\users\\daisy\\anaconda3\\envs\\dojo-env\\lib\\site-packages (4.64.1)\n",
      "Requirement already satisfied: colorama in c:\\users\\daisy\\anaconda3\\envs\\dojo-env\\lib\\site-packages (from tqdm) (0.4.5)\n"
     ]
    }
   ],
   "source": [
    "#installs - only need to run once\n",
    "!pip install yelpapi\n",
    "!pip install tqdm"
   ]
  },
  {
   "cell_type": "code",
   "execution_count": 2,
   "id": "119ff0ee",
   "metadata": {},
   "outputs": [],
   "source": [
    "# Standard Imports\n",
    "import numpy as np\n",
    "import pandas as pd\n",
    "import matplotlib.pyplot as plt\n",
    "import seaborn as sns\n",
    "\n",
    "# Additional Imports\n",
    "#os for saving and loading files\n",
    "#json - to work with json files\n",
    "#math - to round up results\n",
    "#time - to add a short pause to not overwhelm the server\n",
    "import os, json, math, time\n",
    "\n",
    "#to make yelpapi calls\n",
    "from yelpapi import YelpAPI\n",
    "\n",
    "#progress bar\n",
    "from tqdm.notebook import tqdm_notebook"
   ]
  },
  {
   "cell_type": "markdown",
   "id": "46c998b0",
   "metadata": {},
   "source": [
    "### Importing Yelp API Credentials"
   ]
  },
  {
   "cell_type": "code",
   "execution_count": 3,
   "id": "0ec8de2f",
   "metadata": {},
   "outputs": [
    {
     "data": {
      "text/plain": [
       "dict_keys(['client-id', 'api-key'])"
      ]
     },
     "execution_count": 3,
     "metadata": {},
     "output_type": "execute_result"
    }
   ],
   "source": [
    "#load API credentials\n",
    "with open('/Users/Daisy/.secret/yelp_api.json','r') as f: #change the path to match YOUR path!!\n",
    "    login = json.load(f)\n",
    "login.keys()"
   ]
  },
  {
   "cell_type": "code",
   "execution_count": 4,
   "id": "dac18a22",
   "metadata": {},
   "outputs": [],
   "source": [
    "#Instantiate YelpAPI Variable\n",
    "yelp = YelpAPI(login['api-key'], timeout_s = 5.0)"
   ]
  },
  {
   "cell_type": "markdown",
   "id": "7160356f",
   "metadata": {},
   "source": [
    "### Define Search Terms and File Paths"
   ]
  },
  {
   "cell_type": "code",
   "execution_count": 5,
   "id": "8249b44b",
   "metadata": {},
   "outputs": [],
   "source": [
    "#set API call parameters and filename prior to fist call\n",
    "location = 'San Antonio, TX 78213'\n",
    "term = 'ice cream'"
   ]
  },
  {
   "cell_type": "markdown",
   "id": "d8eeb2d0",
   "metadata": {},
   "source": [
    "### Using our variable and .search_query to make API call"
   ]
  },
  {
   "cell_type": "code",
   "execution_count": 6,
   "id": "281cea77",
   "metadata": {},
   "outputs": [
    {
     "name": "stdout",
     "output_type": "stream",
     "text": [
      "<class 'dict'>\n"
     ]
    },
    {
     "data": {
      "text/plain": [
       "dict_keys(['businesses', 'total', 'region'])"
      ]
     },
     "execution_count": 6,
     "metadata": {},
     "output_type": "execute_result"
    }
   ],
   "source": [
    "# use our yelp variable's 'search_query' method to perform our API call\n",
    "search_results = yelp.search_query(location=location,\n",
    "                                       term=term)\n",
    "print(type(search_results))\n",
    "search_results.keys()"
   ]
  },
  {
   "cell_type": "code",
   "execution_count": 7,
   "id": "307afbe1",
   "metadata": {},
   "outputs": [
    {
     "data": {
      "text/plain": [
       "598"
      ]
     },
     "execution_count": 7,
     "metadata": {},
     "output_type": "execute_result"
    }
   ],
   "source": [
    "#checing total of results\n",
    "search_results['total']"
   ]
  },
  {
   "cell_type": "code",
   "execution_count": 8,
   "id": "5d6e6af7",
   "metadata": {},
   "outputs": [
    {
     "data": {
      "text/plain": [
       "20"
      ]
     },
     "execution_count": 8,
     "metadata": {},
     "output_type": "execute_result"
    }
   ],
   "source": [
    "#checking total results per page (will use this # to offset next page's results)\n",
    "len(search_results['businesses'])"
   ]
  },
  {
   "cell_type": "code",
   "execution_count": 9,
   "id": "2a963b2b",
   "metadata": {},
   "outputs": [
    {
     "data": {
      "text/html": [
       "<div>\n",
       "<style scoped>\n",
       "    .dataframe tbody tr th:only-of-type {\n",
       "        vertical-align: middle;\n",
       "    }\n",
       "\n",
       "    .dataframe tbody tr th {\n",
       "        vertical-align: top;\n",
       "    }\n",
       "\n",
       "    .dataframe thead th {\n",
       "        text-align: right;\n",
       "    }\n",
       "</style>\n",
       "<table border=\"1\" class=\"dataframe\">\n",
       "  <thead>\n",
       "    <tr style=\"text-align: right;\">\n",
       "      <th></th>\n",
       "      <th>id</th>\n",
       "      <th>alias</th>\n",
       "      <th>name</th>\n",
       "      <th>image_url</th>\n",
       "      <th>is_closed</th>\n",
       "      <th>url</th>\n",
       "      <th>review_count</th>\n",
       "      <th>categories</th>\n",
       "      <th>rating</th>\n",
       "      <th>coordinates</th>\n",
       "      <th>transactions</th>\n",
       "      <th>price</th>\n",
       "      <th>location</th>\n",
       "      <th>phone</th>\n",
       "      <th>display_phone</th>\n",
       "      <th>distance</th>\n",
       "    </tr>\n",
       "  </thead>\n",
       "  <tbody>\n",
       "    <tr>\n",
       "      <th>0</th>\n",
       "      <td>EcQEIHJCVrCSK-Y3-VBoYQ</td>\n",
       "      <td>fahrenheit-32-san-antonio-8</td>\n",
       "      <td>Fahrenheit 32</td>\n",
       "      <td>https://s3-media1.fl.yelpcdn.com/bphoto/gkxWEv...</td>\n",
       "      <td>False</td>\n",
       "      <td>https://www.yelp.com/biz/fahrenheit-32-san-ant...</td>\n",
       "      <td>76</td>\n",
       "      <td>[{'alias': 'icecream', 'title': 'Ice Cream &amp; F...</td>\n",
       "      <td>4.0</td>\n",
       "      <td>{'latitude': 29.497004165454115, 'longitude': ...</td>\n",
       "      <td>[pickup, delivery]</td>\n",
       "      <td>$$</td>\n",
       "      <td>{'address1': '2527 Vance Jackson Rd', 'address...</td>\n",
       "      <td>+12109740133</td>\n",
       "      <td>(210) 974-0133</td>\n",
       "      <td>2890.117773</td>\n",
       "    </tr>\n",
       "    <tr>\n",
       "      <th>1</th>\n",
       "      <td>W2Io4X-bVqnKpCy-EPWRkg</td>\n",
       "      <td>brindles-awesome-ice-creams-san-antonio-2</td>\n",
       "      <td>Brindles Awesome Ice Creams</td>\n",
       "      <td>https://s3-media2.fl.yelpcdn.com/bphoto/TuX3HI...</td>\n",
       "      <td>False</td>\n",
       "      <td>https://www.yelp.com/biz/brindles-awesome-ice-...</td>\n",
       "      <td>309</td>\n",
       "      <td>[{'alias': 'icecream', 'title': 'Ice Cream &amp; F...</td>\n",
       "      <td>4.0</td>\n",
       "      <td>{'latitude': 29.547727, 'longitude': -98.5778912}</td>\n",
       "      <td>[pickup, delivery]</td>\n",
       "      <td>$</td>\n",
       "      <td>{'address1': '11255 Huebner Rd', 'address2': '...</td>\n",
       "      <td>+12106415222</td>\n",
       "      <td>(210) 641-5222</td>\n",
       "      <td>5521.021439</td>\n",
       "    </tr>\n",
       "  </tbody>\n",
       "</table>\n",
       "</div>"
      ],
      "text/plain": [
       "                       id                                      alias  \\\n",
       "0  EcQEIHJCVrCSK-Y3-VBoYQ                fahrenheit-32-san-antonio-8   \n",
       "1  W2Io4X-bVqnKpCy-EPWRkg  brindles-awesome-ice-creams-san-antonio-2   \n",
       "\n",
       "                          name  \\\n",
       "0                Fahrenheit 32   \n",
       "1  Brindles Awesome Ice Creams   \n",
       "\n",
       "                                           image_url  is_closed  \\\n",
       "0  https://s3-media1.fl.yelpcdn.com/bphoto/gkxWEv...      False   \n",
       "1  https://s3-media2.fl.yelpcdn.com/bphoto/TuX3HI...      False   \n",
       "\n",
       "                                                 url  review_count  \\\n",
       "0  https://www.yelp.com/biz/fahrenheit-32-san-ant...            76   \n",
       "1  https://www.yelp.com/biz/brindles-awesome-ice-...           309   \n",
       "\n",
       "                                          categories  rating  \\\n",
       "0  [{'alias': 'icecream', 'title': 'Ice Cream & F...     4.0   \n",
       "1  [{'alias': 'icecream', 'title': 'Ice Cream & F...     4.0   \n",
       "\n",
       "                                         coordinates        transactions  \\\n",
       "0  {'latitude': 29.497004165454115, 'longitude': ...  [pickup, delivery]   \n",
       "1  {'latitude': 29.547727, 'longitude': -98.5778912}  [pickup, delivery]   \n",
       "\n",
       "  price                                           location         phone  \\\n",
       "0    $$  {'address1': '2527 Vance Jackson Rd', 'address...  +12109740133   \n",
       "1     $  {'address1': '11255 Huebner Rd', 'address2': '...  +12106415222   \n",
       "\n",
       "    display_phone     distance  \n",
       "0  (210) 974-0133  2890.117773  \n",
       "1  (210) 641-5222  5521.021439  "
      ]
     },
     "execution_count": 9,
     "metadata": {},
     "output_type": "execute_result"
    }
   ],
   "source": [
    "#saving results for page 1 and converting to dataframe\n",
    "biz_page1 = pd.DataFrame(search_results['businesses'])\n",
    "#display dataframe\n",
    "biz_page1.head(2)"
   ]
  },
  {
   "cell_type": "code",
   "execution_count": 10,
   "id": "406eeb9e",
   "metadata": {},
   "outputs": [],
   "source": [
    "#making 2nd API call for page #2 by using offset parameter\n",
    "search_results = yelp.search_query(location=location, term=term, offset = 20)"
   ]
  },
  {
   "cell_type": "code",
   "execution_count": 11,
   "id": "c4d54087",
   "metadata": {},
   "outputs": [
    {
     "data": {
      "text/html": [
       "<div>\n",
       "<style scoped>\n",
       "    .dataframe tbody tr th:only-of-type {\n",
       "        vertical-align: middle;\n",
       "    }\n",
       "\n",
       "    .dataframe tbody tr th {\n",
       "        vertical-align: top;\n",
       "    }\n",
       "\n",
       "    .dataframe thead th {\n",
       "        text-align: right;\n",
       "    }\n",
       "</style>\n",
       "<table border=\"1\" class=\"dataframe\">\n",
       "  <thead>\n",
       "    <tr style=\"text-align: right;\">\n",
       "      <th></th>\n",
       "      <th>id</th>\n",
       "      <th>alias</th>\n",
       "      <th>name</th>\n",
       "      <th>image_url</th>\n",
       "      <th>is_closed</th>\n",
       "      <th>url</th>\n",
       "      <th>review_count</th>\n",
       "      <th>categories</th>\n",
       "      <th>rating</th>\n",
       "      <th>coordinates</th>\n",
       "      <th>transactions</th>\n",
       "      <th>price</th>\n",
       "      <th>location</th>\n",
       "      <th>phone</th>\n",
       "      <th>display_phone</th>\n",
       "      <th>distance</th>\n",
       "    </tr>\n",
       "  </thead>\n",
       "  <tbody>\n",
       "    <tr>\n",
       "      <th>0</th>\n",
       "      <td>_yEtk5GcVo7QyktSPFnk1Q</td>\n",
       "      <td>munchies-shakes-snacks-and-more-san-antonio</td>\n",
       "      <td>Munchies Shakes, Snacks &amp; More</td>\n",
       "      <td>https://s3-media3.fl.yelpcdn.com/bphoto/HABXRY...</td>\n",
       "      <td>False</td>\n",
       "      <td>https://www.yelp.com/biz/munchies-shakes-snack...</td>\n",
       "      <td>79</td>\n",
       "      <td>[{'alias': 'juicebars', 'title': 'Juice Bars &amp;...</td>\n",
       "      <td>4.0</td>\n",
       "      <td>{'latitude': 29.5349391699144, 'longitude': -9...</td>\n",
       "      <td>[pickup, delivery]</td>\n",
       "      <td>$</td>\n",
       "      <td>{'address1': '2211 NW Military Hwy', 'address2...</td>\n",
       "      <td>+12106360597</td>\n",
       "      <td>(210) 636-0597</td>\n",
       "      <td>1528.230334</td>\n",
       "    </tr>\n",
       "    <tr>\n",
       "      <th>1</th>\n",
       "      <td>CuVxbJn1fdYsRYZgQ1UOrg</td>\n",
       "      <td>el-tropico-san-antonio</td>\n",
       "      <td>El Tropico</td>\n",
       "      <td>https://s3-media1.fl.yelpcdn.com/bphoto/7mi_CR...</td>\n",
       "      <td>False</td>\n",
       "      <td>https://www.yelp.com/biz/el-tropico-san-antoni...</td>\n",
       "      <td>54</td>\n",
       "      <td>[{'alias': 'shavedice', 'title': 'Shaved Ice'}...</td>\n",
       "      <td>4.5</td>\n",
       "      <td>{'latitude': 29.477825389785, 'longitude': -98...</td>\n",
       "      <td>[]</td>\n",
       "      <td>$</td>\n",
       "      <td>{'address1': '3534 Fredricksburg Rd', 'address...</td>\n",
       "      <td>+12107361560</td>\n",
       "      <td>(210) 736-1560</td>\n",
       "      <td>5046.296214</td>\n",
       "    </tr>\n",
       "  </tbody>\n",
       "</table>\n",
       "</div>"
      ],
      "text/plain": [
       "                       id                                        alias  \\\n",
       "0  _yEtk5GcVo7QyktSPFnk1Q  munchies-shakes-snacks-and-more-san-antonio   \n",
       "1  CuVxbJn1fdYsRYZgQ1UOrg                       el-tropico-san-antonio   \n",
       "\n",
       "                             name  \\\n",
       "0  Munchies Shakes, Snacks & More   \n",
       "1                      El Tropico   \n",
       "\n",
       "                                           image_url  is_closed  \\\n",
       "0  https://s3-media3.fl.yelpcdn.com/bphoto/HABXRY...      False   \n",
       "1  https://s3-media1.fl.yelpcdn.com/bphoto/7mi_CR...      False   \n",
       "\n",
       "                                                 url  review_count  \\\n",
       "0  https://www.yelp.com/biz/munchies-shakes-snack...            79   \n",
       "1  https://www.yelp.com/biz/el-tropico-san-antoni...            54   \n",
       "\n",
       "                                          categories  rating  \\\n",
       "0  [{'alias': 'juicebars', 'title': 'Juice Bars &...     4.0   \n",
       "1  [{'alias': 'shavedice', 'title': 'Shaved Ice'}...     4.5   \n",
       "\n",
       "                                         coordinates        transactions  \\\n",
       "0  {'latitude': 29.5349391699144, 'longitude': -9...  [pickup, delivery]   \n",
       "1  {'latitude': 29.477825389785, 'longitude': -98...                  []   \n",
       "\n",
       "  price                                           location         phone  \\\n",
       "0     $  {'address1': '2211 NW Military Hwy', 'address2...  +12106360597   \n",
       "1     $  {'address1': '3534 Fredricksburg Rd', 'address...  +12107361560   \n",
       "\n",
       "    display_phone     distance  \n",
       "0  (210) 636-0597  1528.230334  \n",
       "1  (210) 736-1560  5046.296214  "
      ]
     },
     "execution_count": 11,
     "metadata": {},
     "output_type": "execute_result"
    }
   ],
   "source": [
    "#saving results for page 2 and converting to dataframe\n",
    "biz_page2 = pd.DataFrame(search_results['businesses'])\n",
    "#display dataframe\n",
    "biz_page2.head(2) #should be different results from page 1"
   ]
  },
  {
   "cell_type": "markdown",
   "id": "4b9f917b",
   "metadata": {},
   "source": [
    "### Concatenating Results from Page1 and Page2 into one dataframe"
   ]
  },
  {
   "cell_type": "code",
   "execution_count": 12,
   "id": "08fb0f06",
   "metadata": {},
   "outputs": [
    {
     "data": {
      "text/html": [
       "<div>\n",
       "<style scoped>\n",
       "    .dataframe tbody tr th:only-of-type {\n",
       "        vertical-align: middle;\n",
       "    }\n",
       "\n",
       "    .dataframe tbody tr th {\n",
       "        vertical-align: top;\n",
       "    }\n",
       "\n",
       "    .dataframe thead th {\n",
       "        text-align: right;\n",
       "    }\n",
       "</style>\n",
       "<table border=\"1\" class=\"dataframe\">\n",
       "  <thead>\n",
       "    <tr style=\"text-align: right;\">\n",
       "      <th></th>\n",
       "      <th>id</th>\n",
       "      <th>alias</th>\n",
       "      <th>name</th>\n",
       "      <th>image_url</th>\n",
       "      <th>is_closed</th>\n",
       "      <th>url</th>\n",
       "      <th>review_count</th>\n",
       "      <th>categories</th>\n",
       "      <th>rating</th>\n",
       "      <th>coordinates</th>\n",
       "      <th>transactions</th>\n",
       "      <th>price</th>\n",
       "      <th>location</th>\n",
       "      <th>phone</th>\n",
       "      <th>display_phone</th>\n",
       "      <th>distance</th>\n",
       "    </tr>\n",
       "  </thead>\n",
       "  <tbody>\n",
       "    <tr>\n",
       "      <th>0</th>\n",
       "      <td>EcQEIHJCVrCSK-Y3-VBoYQ</td>\n",
       "      <td>fahrenheit-32-san-antonio-8</td>\n",
       "      <td>Fahrenheit 32</td>\n",
       "      <td>https://s3-media1.fl.yelpcdn.com/bphoto/gkxWEv...</td>\n",
       "      <td>False</td>\n",
       "      <td>https://www.yelp.com/biz/fahrenheit-32-san-ant...</td>\n",
       "      <td>76</td>\n",
       "      <td>[{'alias': 'icecream', 'title': 'Ice Cream &amp; F...</td>\n",
       "      <td>4.0</td>\n",
       "      <td>{'latitude': 29.497004165454115, 'longitude': ...</td>\n",
       "      <td>[pickup, delivery]</td>\n",
       "      <td>$$</td>\n",
       "      <td>{'address1': '2527 Vance Jackson Rd', 'address...</td>\n",
       "      <td>+12109740133</td>\n",
       "      <td>(210) 974-0133</td>\n",
       "      <td>2890.117773</td>\n",
       "    </tr>\n",
       "    <tr>\n",
       "      <th>1</th>\n",
       "      <td>W2Io4X-bVqnKpCy-EPWRkg</td>\n",
       "      <td>brindles-awesome-ice-creams-san-antonio-2</td>\n",
       "      <td>Brindles Awesome Ice Creams</td>\n",
       "      <td>https://s3-media2.fl.yelpcdn.com/bphoto/TuX3HI...</td>\n",
       "      <td>False</td>\n",
       "      <td>https://www.yelp.com/biz/brindles-awesome-ice-...</td>\n",
       "      <td>309</td>\n",
       "      <td>[{'alias': 'icecream', 'title': 'Ice Cream &amp; F...</td>\n",
       "      <td>4.0</td>\n",
       "      <td>{'latitude': 29.547727, 'longitude': -98.5778912}</td>\n",
       "      <td>[pickup, delivery]</td>\n",
       "      <td>$</td>\n",
       "      <td>{'address1': '11255 Huebner Rd', 'address2': '...</td>\n",
       "      <td>+12106415222</td>\n",
       "      <td>(210) 641-5222</td>\n",
       "      <td>5521.021439</td>\n",
       "    </tr>\n",
       "    <tr>\n",
       "      <th>2</th>\n",
       "      <td>AqS0gkLfpLX3qWLYc9LNAw</td>\n",
       "      <td>freshest-ice-creams-san-antonio</td>\n",
       "      <td>Freshest Ice Creams</td>\n",
       "      <td>https://s3-media4.fl.yelpcdn.com/bphoto/eSJjQD...</td>\n",
       "      <td>False</td>\n",
       "      <td>https://www.yelp.com/biz/freshest-ice-creams-s...</td>\n",
       "      <td>150</td>\n",
       "      <td>[{'alias': 'gelato', 'title': 'Gelato'}, {'ali...</td>\n",
       "      <td>5.0</td>\n",
       "      <td>{'latitude': 29.512849, 'longitude': -98.551021}</td>\n",
       "      <td>[pickup, delivery]</td>\n",
       "      <td>$$</td>\n",
       "      <td>{'address1': '8053 Callaghan Rd', 'address2': ...</td>\n",
       "      <td>+12103716510</td>\n",
       "      <td>(210) 371-6510</td>\n",
       "      <td>2394.801562</td>\n",
       "    </tr>\n",
       "  </tbody>\n",
       "</table>\n",
       "</div>"
      ],
      "text/plain": [
       "                       id                                      alias  \\\n",
       "0  EcQEIHJCVrCSK-Y3-VBoYQ                fahrenheit-32-san-antonio-8   \n",
       "1  W2Io4X-bVqnKpCy-EPWRkg  brindles-awesome-ice-creams-san-antonio-2   \n",
       "2  AqS0gkLfpLX3qWLYc9LNAw            freshest-ice-creams-san-antonio   \n",
       "\n",
       "                          name  \\\n",
       "0                Fahrenheit 32   \n",
       "1  Brindles Awesome Ice Creams   \n",
       "2          Freshest Ice Creams   \n",
       "\n",
       "                                           image_url  is_closed  \\\n",
       "0  https://s3-media1.fl.yelpcdn.com/bphoto/gkxWEv...      False   \n",
       "1  https://s3-media2.fl.yelpcdn.com/bphoto/TuX3HI...      False   \n",
       "2  https://s3-media4.fl.yelpcdn.com/bphoto/eSJjQD...      False   \n",
       "\n",
       "                                                 url  review_count  \\\n",
       "0  https://www.yelp.com/biz/fahrenheit-32-san-ant...            76   \n",
       "1  https://www.yelp.com/biz/brindles-awesome-ice-...           309   \n",
       "2  https://www.yelp.com/biz/freshest-ice-creams-s...           150   \n",
       "\n",
       "                                          categories  rating  \\\n",
       "0  [{'alias': 'icecream', 'title': 'Ice Cream & F...     4.0   \n",
       "1  [{'alias': 'icecream', 'title': 'Ice Cream & F...     4.0   \n",
       "2  [{'alias': 'gelato', 'title': 'Gelato'}, {'ali...     5.0   \n",
       "\n",
       "                                         coordinates        transactions  \\\n",
       "0  {'latitude': 29.497004165454115, 'longitude': ...  [pickup, delivery]   \n",
       "1  {'latitude': 29.547727, 'longitude': -98.5778912}  [pickup, delivery]   \n",
       "2   {'latitude': 29.512849, 'longitude': -98.551021}  [pickup, delivery]   \n",
       "\n",
       "  price                                           location         phone  \\\n",
       "0    $$  {'address1': '2527 Vance Jackson Rd', 'address...  +12109740133   \n",
       "1     $  {'address1': '11255 Huebner Rd', 'address2': '...  +12106415222   \n",
       "2    $$  {'address1': '8053 Callaghan Rd', 'address2': ...  +12103716510   \n",
       "\n",
       "    display_phone     distance  \n",
       "0  (210) 974-0133  2890.117773  \n",
       "1  (210) 641-5222  5521.021439  \n",
       "2  (210) 371-6510  2394.801562  "
      ]
     },
     "metadata": {},
     "output_type": "display_data"
    },
    {
     "data": {
      "text/html": [
       "<div>\n",
       "<style scoped>\n",
       "    .dataframe tbody tr th:only-of-type {\n",
       "        vertical-align: middle;\n",
       "    }\n",
       "\n",
       "    .dataframe tbody tr th {\n",
       "        vertical-align: top;\n",
       "    }\n",
       "\n",
       "    .dataframe thead th {\n",
       "        text-align: right;\n",
       "    }\n",
       "</style>\n",
       "<table border=\"1\" class=\"dataframe\">\n",
       "  <thead>\n",
       "    <tr style=\"text-align: right;\">\n",
       "      <th></th>\n",
       "      <th>id</th>\n",
       "      <th>alias</th>\n",
       "      <th>name</th>\n",
       "      <th>image_url</th>\n",
       "      <th>is_closed</th>\n",
       "      <th>url</th>\n",
       "      <th>review_count</th>\n",
       "      <th>categories</th>\n",
       "      <th>rating</th>\n",
       "      <th>coordinates</th>\n",
       "      <th>transactions</th>\n",
       "      <th>price</th>\n",
       "      <th>location</th>\n",
       "      <th>phone</th>\n",
       "      <th>display_phone</th>\n",
       "      <th>distance</th>\n",
       "    </tr>\n",
       "  </thead>\n",
       "  <tbody>\n",
       "    <tr>\n",
       "      <th>37</th>\n",
       "      <td>3rgIbBT2BzNn-kAD-XyYuQ</td>\n",
       "      <td>baklovah-bakery-san-antonio</td>\n",
       "      <td>Baklovah Bakery</td>\n",
       "      <td>https://s3-media1.fl.yelpcdn.com/bphoto/hU-J-D...</td>\n",
       "      <td>False</td>\n",
       "      <td>https://www.yelp.com/biz/baklovah-bakery-san-a...</td>\n",
       "      <td>309</td>\n",
       "      <td>[{'alias': 'desserts', 'title': 'Desserts'}, {...</td>\n",
       "      <td>4.5</td>\n",
       "      <td>{'latitude': 29.5301990509033, 'longitude': -9...</td>\n",
       "      <td>[pickup, delivery]</td>\n",
       "      <td>$$</td>\n",
       "      <td>{'address1': '9329 Wurzbach Rd', 'address2': '...</td>\n",
       "      <td>+12109823231</td>\n",
       "      <td>(210) 982-3231</td>\n",
       "      <td>3599.768018</td>\n",
       "    </tr>\n",
       "    <tr>\n",
       "      <th>38</th>\n",
       "      <td>URBv-klMHWbvENswiJnQXg</td>\n",
       "      <td>belgian-sweets-san-antonio</td>\n",
       "      <td>Belgian Sweets</td>\n",
       "      <td>https://s3-media1.fl.yelpcdn.com/bphoto/_8R-F6...</td>\n",
       "      <td>False</td>\n",
       "      <td>https://www.yelp.com/biz/belgian-sweets-san-an...</td>\n",
       "      <td>269</td>\n",
       "      <td>[{'alias': 'desserts', 'title': 'Desserts'}, {...</td>\n",
       "      <td>4.5</td>\n",
       "      <td>{'latitude': 29.584827, 'longitude': -98.5328374}</td>\n",
       "      <td>[]</td>\n",
       "      <td>$$</td>\n",
       "      <td>{'address1': '15614 Huebner Rd', 'address2': '...</td>\n",
       "      <td>+12103547101</td>\n",
       "      <td>(210) 354-7101</td>\n",
       "      <td>6955.254314</td>\n",
       "    </tr>\n",
       "    <tr>\n",
       "      <th>39</th>\n",
       "      <td>lr88AAFbegQQ2iIpT2tpYQ</td>\n",
       "      <td>marble-slab-creamery-san-antonio-5</td>\n",
       "      <td>Marble Slab Creamery</td>\n",
       "      <td>https://s3-media3.fl.yelpcdn.com/bphoto/KHtfUQ...</td>\n",
       "      <td>False</td>\n",
       "      <td>https://www.yelp.com/biz/marble-slab-creamery-...</td>\n",
       "      <td>38</td>\n",
       "      <td>[{'alias': 'icecream', 'title': 'Ice Cream &amp; F...</td>\n",
       "      <td>4.0</td>\n",
       "      <td>{'latitude': 29.475809, 'longitude': -98.463219}</td>\n",
       "      <td>[pickup, delivery]</td>\n",
       "      <td>$</td>\n",
       "      <td>{'address1': '5231 Broadway St', 'address2': '...</td>\n",
       "      <td>+12108260871</td>\n",
       "      <td>(210) 826-0871</td>\n",
       "      <td>8192.837643</td>\n",
       "    </tr>\n",
       "  </tbody>\n",
       "</table>\n",
       "</div>"
      ],
      "text/plain": [
       "                        id                               alias  \\\n",
       "37  3rgIbBT2BzNn-kAD-XyYuQ         baklovah-bakery-san-antonio   \n",
       "38  URBv-klMHWbvENswiJnQXg          belgian-sweets-san-antonio   \n",
       "39  lr88AAFbegQQ2iIpT2tpYQ  marble-slab-creamery-san-antonio-5   \n",
       "\n",
       "                    name                                          image_url  \\\n",
       "37       Baklovah Bakery  https://s3-media1.fl.yelpcdn.com/bphoto/hU-J-D...   \n",
       "38        Belgian Sweets  https://s3-media1.fl.yelpcdn.com/bphoto/_8R-F6...   \n",
       "39  Marble Slab Creamery  https://s3-media3.fl.yelpcdn.com/bphoto/KHtfUQ...   \n",
       "\n",
       "    is_closed                                                url  \\\n",
       "37      False  https://www.yelp.com/biz/baklovah-bakery-san-a...   \n",
       "38      False  https://www.yelp.com/biz/belgian-sweets-san-an...   \n",
       "39      False  https://www.yelp.com/biz/marble-slab-creamery-...   \n",
       "\n",
       "    review_count                                         categories  rating  \\\n",
       "37           309  [{'alias': 'desserts', 'title': 'Desserts'}, {...     4.5   \n",
       "38           269  [{'alias': 'desserts', 'title': 'Desserts'}, {...     4.5   \n",
       "39            38  [{'alias': 'icecream', 'title': 'Ice Cream & F...     4.0   \n",
       "\n",
       "                                          coordinates        transactions  \\\n",
       "37  {'latitude': 29.5301990509033, 'longitude': -9...  [pickup, delivery]   \n",
       "38  {'latitude': 29.584827, 'longitude': -98.5328374}                  []   \n",
       "39   {'latitude': 29.475809, 'longitude': -98.463219}  [pickup, delivery]   \n",
       "\n",
       "   price                                           location         phone  \\\n",
       "37    $$  {'address1': '9329 Wurzbach Rd', 'address2': '...  +12109823231   \n",
       "38    $$  {'address1': '15614 Huebner Rd', 'address2': '...  +12103547101   \n",
       "39     $  {'address1': '5231 Broadway St', 'address2': '...  +12108260871   \n",
       "\n",
       "     display_phone     distance  \n",
       "37  (210) 982-3231  3599.768018  \n",
       "38  (210) 354-7101  6955.254314  \n",
       "39  (210) 826-0871  8192.837643  "
      ]
     },
     "metadata": {},
     "output_type": "display_data"
    }
   ],
   "source": [
    "## concatenate the previous results and new results. \n",
    "businesses = pd.concat([biz_page1, biz_page2],\n",
    "                      ignore_index=True)\n",
    "#display head and tail of dataframe\n",
    "display(businesses.head(3), businesses.tail(3))"
   ]
  },
  {
   "cell_type": "markdown",
   "id": "370d7bc4",
   "metadata": {},
   "source": [
    "### Saving businesses as a records-oriented JSON file. (df.to_json(orient='records'))"
   ]
  },
  {
   "cell_type": "code",
   "execution_count": 13,
   "id": "cc249f9c",
   "metadata": {},
   "outputs": [
    {
     "data": {
      "text/plain": [
       "[]"
      ]
     },
     "execution_count": 13,
     "metadata": {},
     "output_type": "execute_result"
    }
   ],
   "source": [
    "# creating new folder with os\n",
    "import os\n",
    "os.makedirs('Data/',exist_ok=True) \n",
    "# Confirm folder created\n",
    "os.listdir(\"Data/\")"
   ]
  },
  {
   "cell_type": "code",
   "execution_count": 14,
   "id": "891f0bd6",
   "metadata": {},
   "outputs": [
    {
     "ename": "ValueError",
     "evalue": "'index=False' is only valid when 'orient' is 'split' or 'table'",
     "output_type": "error",
     "traceback": [
      "\u001b[1;31m---------------------------------------------------------------------------\u001b[0m",
      "\u001b[1;31mValueError\u001b[0m                                Traceback (most recent call last)",
      "Cell \u001b[1;32mIn [14], line 1\u001b[0m\n\u001b[1;32m----> 1\u001b[0m SA_icecream \u001b[38;5;241m=\u001b[39m \u001b[43mbusinesses\u001b[49m\u001b[38;5;241;43m.\u001b[39;49m\u001b[43mto_json\u001b[49m\u001b[43m(\u001b[49m\u001b[38;5;124;43m'\u001b[39;49m\u001b[38;5;124;43mData/SA_icecream.json\u001b[39;49m\u001b[38;5;124;43m'\u001b[39;49m\u001b[43m,\u001b[49m\u001b[43morient\u001b[49m\u001b[38;5;241;43m=\u001b[39;49m\u001b[38;5;124;43m'\u001b[39;49m\u001b[38;5;124;43mrecords\u001b[39;49m\u001b[38;5;124;43m'\u001b[39;49m\u001b[43m,\u001b[49m\u001b[43mindex\u001b[49m\u001b[38;5;241;43m=\u001b[39;49m\u001b[38;5;28;43;01mFalse\u001b[39;49;00m\u001b[43m)\u001b[49m\n\u001b[0;32m      2\u001b[0m SA_icecream\n",
      "File \u001b[1;32m~\\anaconda3\\envs\\dojo-env\\lib\\site-packages\\pandas\\core\\generic.py:2650\u001b[0m, in \u001b[0;36mNDFrame.to_json\u001b[1;34m(self, path_or_buf, orient, date_format, double_precision, force_ascii, date_unit, default_handler, lines, compression, index, indent, storage_options)\u001b[0m\n\u001b[0;32m   2647\u001b[0m config\u001b[38;5;241m.\u001b[39mis_nonnegative_int(indent)\n\u001b[0;32m   2648\u001b[0m indent \u001b[38;5;241m=\u001b[39m indent \u001b[38;5;129;01mor\u001b[39;00m \u001b[38;5;241m0\u001b[39m\n\u001b[1;32m-> 2650\u001b[0m \u001b[38;5;28;01mreturn\u001b[39;00m \u001b[43mjson\u001b[49m\u001b[38;5;241;43m.\u001b[39;49m\u001b[43mto_json\u001b[49m\u001b[43m(\u001b[49m\n\u001b[0;32m   2651\u001b[0m \u001b[43m    \u001b[49m\u001b[43mpath_or_buf\u001b[49m\u001b[38;5;241;43m=\u001b[39;49m\u001b[43mpath_or_buf\u001b[49m\u001b[43m,\u001b[49m\n\u001b[0;32m   2652\u001b[0m \u001b[43m    \u001b[49m\u001b[43mobj\u001b[49m\u001b[38;5;241;43m=\u001b[39;49m\u001b[38;5;28;43mself\u001b[39;49m\u001b[43m,\u001b[49m\n\u001b[0;32m   2653\u001b[0m \u001b[43m    \u001b[49m\u001b[43morient\u001b[49m\u001b[38;5;241;43m=\u001b[39;49m\u001b[43morient\u001b[49m\u001b[43m,\u001b[49m\n\u001b[0;32m   2654\u001b[0m \u001b[43m    \u001b[49m\u001b[43mdate_format\u001b[49m\u001b[38;5;241;43m=\u001b[39;49m\u001b[43mdate_format\u001b[49m\u001b[43m,\u001b[49m\n\u001b[0;32m   2655\u001b[0m \u001b[43m    \u001b[49m\u001b[43mdouble_precision\u001b[49m\u001b[38;5;241;43m=\u001b[39;49m\u001b[43mdouble_precision\u001b[49m\u001b[43m,\u001b[49m\n\u001b[0;32m   2656\u001b[0m \u001b[43m    \u001b[49m\u001b[43mforce_ascii\u001b[49m\u001b[38;5;241;43m=\u001b[39;49m\u001b[43mforce_ascii\u001b[49m\u001b[43m,\u001b[49m\n\u001b[0;32m   2657\u001b[0m \u001b[43m    \u001b[49m\u001b[43mdate_unit\u001b[49m\u001b[38;5;241;43m=\u001b[39;49m\u001b[43mdate_unit\u001b[49m\u001b[43m,\u001b[49m\n\u001b[0;32m   2658\u001b[0m \u001b[43m    \u001b[49m\u001b[43mdefault_handler\u001b[49m\u001b[38;5;241;43m=\u001b[39;49m\u001b[43mdefault_handler\u001b[49m\u001b[43m,\u001b[49m\n\u001b[0;32m   2659\u001b[0m \u001b[43m    \u001b[49m\u001b[43mlines\u001b[49m\u001b[38;5;241;43m=\u001b[39;49m\u001b[43mlines\u001b[49m\u001b[43m,\u001b[49m\n\u001b[0;32m   2660\u001b[0m \u001b[43m    \u001b[49m\u001b[43mcompression\u001b[49m\u001b[38;5;241;43m=\u001b[39;49m\u001b[43mcompression\u001b[49m\u001b[43m,\u001b[49m\n\u001b[0;32m   2661\u001b[0m \u001b[43m    \u001b[49m\u001b[43mindex\u001b[49m\u001b[38;5;241;43m=\u001b[39;49m\u001b[43mindex\u001b[49m\u001b[43m,\u001b[49m\n\u001b[0;32m   2662\u001b[0m \u001b[43m    \u001b[49m\u001b[43mindent\u001b[49m\u001b[38;5;241;43m=\u001b[39;49m\u001b[43mindent\u001b[49m\u001b[43m,\u001b[49m\n\u001b[0;32m   2663\u001b[0m \u001b[43m    \u001b[49m\u001b[43mstorage_options\u001b[49m\u001b[38;5;241;43m=\u001b[39;49m\u001b[43mstorage_options\u001b[49m\u001b[43m,\u001b[49m\n\u001b[0;32m   2664\u001b[0m \u001b[43m\u001b[49m\u001b[43m)\u001b[49m\n",
      "File \u001b[1;32m~\\anaconda3\\envs\\dojo-env\\lib\\site-packages\\pandas\\io\\json\\_json.py:141\u001b[0m, in \u001b[0;36mto_json\u001b[1;34m(path_or_buf, obj, orient, date_format, double_precision, force_ascii, date_unit, default_handler, lines, compression, index, indent, storage_options)\u001b[0m\n\u001b[0;32m    124\u001b[0m \u001b[38;5;28;01mdef\u001b[39;00m \u001b[38;5;21mto_json\u001b[39m(\n\u001b[0;32m    125\u001b[0m     path_or_buf: FilePath \u001b[38;5;241m|\u001b[39m WriteBuffer[\u001b[38;5;28mstr\u001b[39m] \u001b[38;5;241m|\u001b[39m WriteBuffer[\u001b[38;5;28mbytes\u001b[39m] \u001b[38;5;241m|\u001b[39m \u001b[38;5;28;01mNone\u001b[39;00m,\n\u001b[0;32m    126\u001b[0m     obj: NDFrame,\n\u001b[1;32m   (...)\u001b[0m\n\u001b[0;32m    137\u001b[0m     storage_options: StorageOptions \u001b[38;5;241m=\u001b[39m \u001b[38;5;28;01mNone\u001b[39;00m,\n\u001b[0;32m    138\u001b[0m ) \u001b[38;5;241m-\u001b[39m\u001b[38;5;241m>\u001b[39m \u001b[38;5;28mstr\u001b[39m \u001b[38;5;241m|\u001b[39m \u001b[38;5;28;01mNone\u001b[39;00m:\n\u001b[0;32m    140\u001b[0m     \u001b[38;5;28;01mif\u001b[39;00m \u001b[38;5;129;01mnot\u001b[39;00m index \u001b[38;5;129;01mand\u001b[39;00m orient \u001b[38;5;129;01mnot\u001b[39;00m \u001b[38;5;129;01min\u001b[39;00m [\u001b[38;5;124m\"\u001b[39m\u001b[38;5;124msplit\u001b[39m\u001b[38;5;124m\"\u001b[39m, \u001b[38;5;124m\"\u001b[39m\u001b[38;5;124mtable\u001b[39m\u001b[38;5;124m\"\u001b[39m]:\n\u001b[1;32m--> 141\u001b[0m         \u001b[38;5;28;01mraise\u001b[39;00m \u001b[38;5;167;01mValueError\u001b[39;00m(\n\u001b[0;32m    142\u001b[0m             \u001b[38;5;124m\"\u001b[39m\u001b[38;5;124m'\u001b[39m\u001b[38;5;124mindex=False\u001b[39m\u001b[38;5;124m'\u001b[39m\u001b[38;5;124m is only valid when \u001b[39m\u001b[38;5;124m'\u001b[39m\u001b[38;5;124morient\u001b[39m\u001b[38;5;124m'\u001b[39m\u001b[38;5;124m is \u001b[39m\u001b[38;5;124m'\u001b[39m\u001b[38;5;124msplit\u001b[39m\u001b[38;5;124m'\u001b[39m\u001b[38;5;124m or \u001b[39m\u001b[38;5;124m'\u001b[39m\u001b[38;5;124mtable\u001b[39m\u001b[38;5;124m'\u001b[39m\u001b[38;5;124m\"\u001b[39m\n\u001b[0;32m    143\u001b[0m         )\n\u001b[0;32m    145\u001b[0m     \u001b[38;5;28;01mif\u001b[39;00m lines \u001b[38;5;129;01mand\u001b[39;00m orient \u001b[38;5;241m!=\u001b[39m \u001b[38;5;124m\"\u001b[39m\u001b[38;5;124mrecords\u001b[39m\u001b[38;5;124m\"\u001b[39m:\n\u001b[0;32m    146\u001b[0m         \u001b[38;5;28;01mraise\u001b[39;00m \u001b[38;5;167;01mValueError\u001b[39;00m(\u001b[38;5;124m\"\u001b[39m\u001b[38;5;124m'\u001b[39m\u001b[38;5;124mlines\u001b[39m\u001b[38;5;124m'\u001b[39m\u001b[38;5;124m keyword only valid when \u001b[39m\u001b[38;5;124m'\u001b[39m\u001b[38;5;124morient\u001b[39m\u001b[38;5;124m'\u001b[39m\u001b[38;5;124m is records\u001b[39m\u001b[38;5;124m\"\u001b[39m)\n",
      "\u001b[1;31mValueError\u001b[0m: 'index=False' is only valid when 'orient' is 'split' or 'table'"
     ]
    }
   ],
   "source": [
    "SA_icecream = businesses.to_json('Data/SA_icecream.json',orient='records',index=False)\n",
    "SA_icecream"
   ]
  },
  {
   "cell_type": "code",
   "execution_count": null,
   "id": "86cd6177",
   "metadata": {},
   "outputs": [],
   "source": []
  }
 ],
 "metadata": {
  "kernelspec": {
   "display_name": "Python 3 (ipykernel)",
   "language": "python",
   "name": "python3"
  },
  "language_info": {
   "codemirror_mode": {
    "name": "ipython",
    "version": 3
   },
   "file_extension": ".py",
   "mimetype": "text/x-python",
   "name": "python",
   "nbconvert_exporter": "python",
   "pygments_lexer": "ipython3",
   "version": "3.9.15"
  },
  "toc": {
   "base_numbering": 1,
   "nav_menu": {},
   "number_sections": false,
   "sideBar": true,
   "skip_h1_title": false,
   "title_cell": "Table of Contents",
   "title_sidebar": "Contents",
   "toc_cell": false,
   "toc_position": {},
   "toc_section_display": true,
   "toc_window_display": false
  }
 },
 "nbformat": 4,
 "nbformat_minor": 5
}
